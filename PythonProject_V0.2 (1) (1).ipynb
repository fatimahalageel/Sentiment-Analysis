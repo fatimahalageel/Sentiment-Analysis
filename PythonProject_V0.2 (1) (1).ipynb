{
 "cells": [
  {
   "cell_type": "code",
   "execution_count": 1,
   "id": "e0ae7662-54a1-4f02-bc74-a01519f5ff7d",
   "metadata": {},
   "outputs": [],
   "source": [
    "import pandas as pd\n",
    "from textblob import TextBlob"
   ]
  },
  {
   "cell_type": "code",
   "execution_count": 3,
   "id": "eea5e6fe-ac82-40ad-9529-68289f55a147",
   "metadata": {},
   "outputs": [
    {
     "name": "stdout",
     "output_type": "stream",
     "text": [
      "   Unnamed: 0                                       Product Name  Brand Name  \\\n",
      "0       16429  Apple iPhone 4s 8GB Unlocked Smartphone w/ 8MP...         NaN   \n",
      "1       16430  Apple iPhone 4s 8GB Unlocked Smartphone w/ 8MP...         NaN   \n",
      "2       16431  Apple iPhone 4s 8GB Unlocked Smartphone w/ 8MP...         NaN   \n",
      "3       16432  Apple iPhone 4s 8GB Unlocked Smartphone w/ 8MP...         NaN   \n",
      "4       16433  Apple iPhone 4s 8GB Unlocked Smartphone w/ 8MP...         NaN   \n",
      "\n",
      "   Price  Rating                                            Reviews  \\\n",
      "0  99.99       5                                           good buy   \n",
      "1  99.99       5                              great phonegood price   \n",
      "2  99.99       1  I bought and send to Africa the two are not wo...   \n",
      "3  99.99       4                    Had difficulty connecting to wf   \n",
      "4  99.99       5                                          very good   \n",
      "\n",
      "   Review Votes  wordCount Sentiment  Polarity Sentiment_Accuracy  \n",
      "0           0.0          2  Positive      0.70              Match  \n",
      "1           0.0          3  Positive      0.80              Match  \n",
      "2           0.0         11   Neutral      0.00           Mismatch  \n",
      "3           0.0          5   Neutral      0.00           Mismatch  \n",
      "4           0.0          2  Positive      0.91              Match  \n"
     ]
    }
   ],
   "source": [
    "# Load the dataset\n",
    "df = pd.read_csv('filtered_reviews(Apple iPhone 4s).csv')\n",
    "\n",
    "# Display the first few rows of the dataset\n",
    "print(df.head())"
   ]
  },
  {
   "cell_type": "code",
   "execution_count": 5,
   "id": "89a27a69-b9cf-42d3-96e8-106ea0dfd8c2",
   "metadata": {},
   "outputs": [
    {
     "name": "stdout",
     "output_type": "stream",
     "text": [
      "Unnamed: 0               0\n",
      "Product Name             0\n",
      "Brand Name            1448\n",
      "Price                    0\n",
      "Rating                   0\n",
      "Reviews                  0\n",
      "Review Votes            88\n",
      "wordCount                0\n",
      "Sentiment                0\n",
      "Polarity                 0\n",
      "Sentiment_Accuracy       0\n",
      "dtype: int64\n"
     ]
    }
   ],
   "source": [
    "# Check for missing values\n",
    "print(df.isnull().sum())\n",
    "\n",
    "# Drop rows with missing review\n",
    "df.dropna(subset=['Reviews'], inplace=True)\n",
    "\n",
    "# Select necessary columns\n",
    "reviews = df['Reviews']"
   ]
  },
  {
   "cell_type": "code",
   "execution_count": 7,
   "id": "a22e4a90-2e16-4ea4-8982-def1346d6ea8",
   "metadata": {},
   "outputs": [],
   "source": [
    "#Task1 the analyzer function\n",
    "def sentimentAnalyzer(text):\n",
    "    blob = TextBlob(text)\n",
    "    score = blob.sentiment.polarity\n",
    "    \n",
    "    if score < -0.2:\n",
    "        return 'Negative'\n",
    "    elif -0.2 <= score <= 0.2:\n",
    "        return 'Neutral'\n",
    "    else:\n",
    "        return 'Positive'"
   ]
  },
  {
   "cell_type": "code",
   "execution_count": 50,
   "id": "91b707ae-1104-467b-adca-5d9ff685c9eb",
   "metadata": {},
   "outputs": [
    {
     "name": "stdout",
     "output_type": "stream",
     "text": [
      "Word: happy, \t\tExpected: Positive, \t\tResult: Positive\n",
      "Word: animal, \t\tExpected: Neutral, \t\tResult: Neutral\n",
      "Word: good, \t\tExpected: Positive, \t\tResult: Positive\n",
      "Word: rich, \t\tExpected: Positive, \t\tResult: Positive\n",
      "Word: smile, \t\tExpected: Positive, \t\tResult: Positive\n",
      "Word: sad, \t\tExpected: Negative, \t\tResult: Negative\n",
      "Word: bad, \t\tExpected: Negative, \t\tResult: Negative\n",
      "Word: poor, \t\tExpected: Negative, \t\tResult: Negative\n",
      "Word: anger, \t\tExpected: Negative, \t\tResult: Negative\n",
      "Word: food, \t\tExpected: Neutral, \t\tResult: Neutral\n",
      "Word: disappointed, \t\tExpected: Negative, \t\tResult: Negative\n",
      "Word: exciting, \t\tExpected: Positive, \t\tResult: Positive\n"
     ]
    }
   ],
   "source": [
    "#Task 2: Verify that the function by passing the following words\n",
    "test_words = {\n",
    "    \"happy\": \"Positive\",\n",
    "    \"animal\": \"Neutral\",\n",
    "    \"good\": \"Positive\",\n",
    "    \"rich\": \"Positive\",\n",
    "    \"smile\": \"Positive\",\n",
    "    \"sad\": \"Negative\",\n",
    "    \"bad\": \"Negative\",\n",
    "    \"poor\": \"Negative\",\n",
    "    \"anger\": \"Negative\",\n",
    "    \"food\": \"Neutral\",\n",
    "    \"disappointed\": \"Negative\",\n",
    "    \"exciting\": \"Positive\"\n",
    "}\n",
    "\n",
    "for word, expected_sentiment in test_words.items():\n",
    "    result = sentimentAnalyzer(word)\n",
    "    print(f\"Word: {word}, \\t\\tExpected: {expected_sentiment}, \\t\\tResult: {result}\")\n"
   ]
  },
  {
   "cell_type": "code",
   "execution_count": 21,
   "id": "f8507aab-e1e9-49f6-a7e6-f89dd6d907ed",
   "metadata": {},
   "outputs": [],
   "source": [
    "# Task3 to choose product has at least 1000 reviews\n",
    "def find_products_with_reviews(df):\n",
    "    products = df['Product Name'].value_counts()\n",
    "    products = products[products >= 1000]\n",
    "    \n",
    "    if not products.empty:\n",
    "        selected_product = products.index[0]\n",
    "        return selected_product \n",
    "    else:\n",
    "        print(\"No products found with at least 1000 reviews.\")\n",
    "        return None"
   ]
  },
  {
   "cell_type": "code",
   "execution_count": 11,
   "id": "4724e3e8-a8b8-47a9-bf7f-0c69bd528eeb",
   "metadata": {},
   "outputs": [
    {
     "name": "stdout",
     "output_type": "stream",
     "text": [
      "Product Name: Apple iPhone 4s 8GB Unlocked Smartphone w/ 8MP Camera, White (Certified Refurbished)\n",
      "Number of Rows: 1448\n",
      "Number of Columns: 11\n",
      "Length of Shortest Review (in words): 1\n",
      "Length of Longest Review (in words): 297\n",
      "Average Length of Review (in words): 20\n"
     ]
    }
   ],
   "source": [
    "# Task3 to show data related to the product\n",
    "\n",
    "# Get the selected product with at least 1000 reviews\n",
    "selected_product = find_products_with_reviews(df) #Assign the returned value from the function\n",
    "\n",
    "# Check if selected_product is not None before proceeding\n",
    "if selected_product: \n",
    "    \n",
    "    filtered_df = df.loc[df['Product Name'] == selected_product].copy()\n",
    "\n",
    "    def productInfo():\n",
    "        print(\"Product Name: {}\".format(selected_product))\n",
    "        print(\"Number of Rows: {}\".format(filtered_df.shape[0]))\n",
    "        print(\"Number of Columns: {}\".format(filtered_df.shape[1]))\n",
    "\n",
    "        # Calculate review lengths\n",
    "        filtered_df['wordCount'] = filtered_df['Reviews'].apply(lambda x: len(x.split()))\n",
    "        print(\"Length of Shortest Review (in words): {}\".format(filtered_df['wordCount'].min()))\n",
    "        print(\"Length of Longest Review (in words): {}\".format(filtered_df['wordCount'].max()))\n",
    "        print(\"Average Length of Review (in words): {:.0f}\".format(filtered_df['wordCount'].mean()))\n",
    "\n",
    "    productInfo()\n",
    "else: \n",
    "    print(\"No product with at least 1000 reviews was selected.\")\n"
   ]
  },
  {
   "cell_type": "code",
   "execution_count": 13,
   "id": "6b2d9eaa-2b55-4542-8d30-2771f143dcbc",
   "metadata": {},
   "outputs": [
    {
     "name": "stdout",
     "output_type": "stream",
     "text": [
      "                                             Reviews Sentiment\n",
      "0                                           good buy  Positive\n",
      "1                              great phonegood price  Positive\n",
      "2  I bought and send to Africa the two are not wo...   Neutral\n",
      "3                    Had difficulty connecting to wf   Neutral\n",
      "4                                          very good  Positive\n"
     ]
    }
   ],
   "source": [
    "# Task4 Apply the sentimentAnalyzer Function\n",
    "filtered_df['Sentiment'] = filtered_df['Reviews'].apply(sentimentAnalyzer)\n",
    "\n",
    "print(filtered_df[['Reviews', 'Sentiment']].head())"
   ]
  },
  {
   "cell_type": "code",
   "execution_count": 15,
   "id": "2ef6d2de-3e88-45db-b02a-2902a37ae4e5",
   "metadata": {},
   "outputs": [
    {
     "name": "stdout",
     "output_type": "stream",
     "text": [
      "Sentiment\n",
      "Positive    768\n",
      "Neutral     570\n",
      "Negative    110\n",
      "Name: count, dtype: int64\n"
     ]
    }
   ],
   "source": [
    "#SARAHMOD\n",
    "#Here are the exact valuse and next cell will be the graph.\n",
    "# Task 5: Using visualization \n",
    "sentiment_counts = filtered_df['Sentiment'].value_counts()\n",
    "print(sentiment_counts)\n",
    "\n",
    "# Plotting the sentiment distribution\n",
    "#sentiment_counts.plot(kind='bar', title='Sentiment Distribution')"
   ]
  },
  {
   "cell_type": "code",
   "execution_count": 17,
   "id": "7db81230-c69e-4205-8cc5-fe7919751c4e",
   "metadata": {},
   "outputs": [
    {
     "data": {
      "image/png": "[encoded data removed]",
      "text/plain": [
       "<Figure size 800x600 with 1 Axes>"
      ]
     },
     "metadata": {},
     "output_type": "display_data"
    },
    {
     "data": {
      "image/png": "[encoded data removed]",
      "text/plain": [
       "<Figure size 800x600 with 1 Axes>"
      ]
     },
     "metadata": {},
     "output_type": "display_data"
    },
    {
     "name": "stdout",
     "output_type": "stream",
     "text": [
      "Positive Review Example:\n",
      "Review: good buy\n",
      "Polarity: 0.7\n",
      "\n",
      "Neutral Review Example:\n",
      "Review: I bought and send to Africa the two are not working\n",
      "Polarity: 0.0\n",
      "\n",
      "Negative Review Example:\n",
      "Review: Bad batery\n",
      "Polarity: -0.6999999999999998\n",
      "\n",
      "Examples of Mismatches:\n",
      "                                              Reviews  Rating Sentiment\n",
      "2   I bought and send to Africa the two are not wo...       1   Neutral\n",
      "3                     Had difficulty connecting to wf       4   Neutral\n",
      "7   Do not buy this phone. it is used, no head pho...       1   Neutral\n",
      "10  sometimes the sound on videos , music & keyboa...       2   Neutral\n",
      "11  Wifi couldnt be enabled. Apparently had a hard...       1   Neutral\n",
      "\n",
      "Insights for the Client:\n",
      "- Out of 1448 reviews, 110 (7.60%) are Negative.\n",
      "- Consider analyzing negative reviews to identify recurring issues (e.g., product quality, delivery issues).\n",
      "- Positive reviews suggest areas of strength; focus marketing efforts on these points.\n",
      "- Regularly monitor feedback and respond promptly to negative reviews to enhance customer satisfaction.\n"
     ]
    }
   ],
   "source": [
    "# Task 5: Visualization and Analysis\n",
    "\n",
    "import pandas as pd\n",
    "from textblob import TextBlob\n",
    "import matplotlib.pyplot as plt\n",
    "\n",
    "\n",
    "\n",
    "# Count the sentiment distribution\n",
    "sentiment_counts = filtered_df['Sentiment'].value_counts()\n",
    "\n",
    "# Plotting the sentiment distribution as a bar chart\n",
    "plt.figure(figsize=(8, 6))\n",
    "sentiment_counts.plot(kind='bar', color=['green', 'blue', 'red'], title='Sentiment Distribution')\n",
    "plt.xlabel('Sentiment')\n",
    "plt.ylabel('Number of Reviews')\n",
    "plt.xticks(rotation=0)\n",
    "plt.show()\n",
    "\n",
    "\n",
    "# Visualizing polarity scores\n",
    "filtered_df['Polarity'] = filtered_df['Reviews'].apply(lambda x: TextBlob(x).sentiment.polarity)\n",
    "plt.figure(figsize=(8, 6))\n",
    "plt.hist(filtered_df['Polarity'], bins=20, color='purple', alpha=0.7, edgecolor='black')\n",
    "plt.title('Polarity Score Distribution')\n",
    "plt.xlabel('Polarity Score')\n",
    "plt.ylabel('Number of Reviews')\n",
    "plt.grid(axis='y', linestyle='--', alpha=0.7)\n",
    "plt.show()\n",
    "\n",
    "#2\n",
    "# (**Display examples of Positive, Neutral, and Negative reviews with polarity scores)\n",
    "\n",
    "# Extract and display examples of reviews for each sentiment type\n",
    "positive_review = filtered_df[filtered_df['Sentiment'] == 'Positive'].iloc[0]\n",
    "neutral_review = filtered_df[filtered_df['Sentiment'] == 'Neutral'].iloc[0]\n",
    "negative_review = filtered_df[filtered_df['Sentiment'] == 'Negative'].iloc[0]\n",
    "\n",
    "# Print the reviews along with their polarity scores:\n",
    "print(\"Positive Review Example:\")\n",
    "print(f\"Review: {positive_review['Reviews']}\")\n",
    "print(f\"Polarity: {TextBlob(positive_review['Reviews']).sentiment.polarity}\")\n",
    "print(\"\\nNeutral Review Example:\")\n",
    "print(f\"Review: {neutral_review['Reviews']}\")\n",
    "print(f\"Polarity: {TextBlob(neutral_review['Reviews']).sentiment.polarity}\")\n",
    "print(\"\\nNegative Review Example:\")\n",
    "print(f\"Review: {negative_review['Reviews']}\")\n",
    "print(f\"Polarity: {TextBlob(negative_review['Reviews']).sentiment.polarity}\")\n",
    "\n",
    "\n",
    "\n",
    "#4 (Identify examples where TextBlob misclassified sentiment and explain why)\n",
    "# Cross-reference TextBlob sentiment with the rating column to identify mismatches:\n",
    "def assess_sentiment_accuracy(row):\n",
    "    rating = row['Rating']\n",
    "    sentiment = row['Sentiment']\n",
    "    if rating >= 4 and sentiment != 'Positive':\n",
    "        return 'Mismatch'\n",
    "    elif rating == 3 and sentiment != 'Neutral':\n",
    "        return 'Mismatch'\n",
    "    elif rating <= 2 and sentiment != 'Negative':\n",
    "        return 'Mismatch'\n",
    "    return 'Match'\n",
    "\n",
    "# Create a new column to assess sentiment accuracy\n",
    "filtered_df['Sentiment_Accuracy'] = filtered_df.apply(assess_sentiment_accuracy, axis=1)\n",
    "\n",
    "\n",
    "# Display mismatched examples\n",
    "mismatches = filtered_df[filtered_df['Sentiment_Accuracy'] == 'Mismatch']\n",
    "print(\"\\nExamples of Mismatches:\")\n",
    "print(mismatches[['Reviews', 'Rating', 'Sentiment']].head())\n",
    "\n",
    "#3 (Analyze the results and provide actionable advice to minimize negative sentiment and improve reputation)\n",
    "\n",
    "#Calculate the percentage of negative reviews\n",
    "negative_count = sentiment_counts.get('Negative', 0)\n",
    "total_reviews = sentiment_counts.sum()\n",
    "negative_percentage = (negative_count / total_reviews) * 100 if total_reviews else 0\n",
    "\n",
    "#D isplay insights for the client:\n",
    "print(\"\\nInsights for the Client:\")\n",
    "print(f\"- Out of {total_reviews} reviews, {negative_count} ({negative_percentage:.2f}%) are Negative.\")\n",
    "print(\"- Consider analyzing negative reviews to identify recurring issues (e.g., product quality, delivery issues).\")\n",
    "print(\"- Positive reviews suggest areas of strength; focus marketing efforts on these points.\")\n",
    "print(\"- Regularly monitor feedback and respond promptly to negative reviews to enhance customer satisfaction.\")\n"
   ]
  },
  {
   "cell_type": "code",
   "execution_count": 19,
   "id": "df4a482d-1966-4335-a89c-a806c00cbb26",
   "metadata": {},
   "outputs": [],
   "source": [
    "# Export the DataFrame to a CSV file\n",
    "filtered_df.to_csv('filtered_reviews.csv')"
   ]
  },
  {
   "cell_type": "code",
   "execution_count": null,
   "id": "b52f89b2-03fd-4771-9d98-8e9581bf9e49",
   "metadata": {},
   "outputs": [],
   "source": []
  }
 ],
 "metadata": {
  "kernelspec": {
   "display_name": "python_project",
   "language": "python",
   "name": "python_project"
  },
  "language_info": {
   "codemirror_mode": {
    "name": "ipython",
    "version": 3
   },
   "file_extension": ".py",
   "mimetype": "text/x-python",
   "name": "python",
   "nbconvert_exporter": "python",
   "pygments_lexer": "ipython3",
   "version": "3.12.9"
  }
 },
 "nbformat": 4,
 "nbformat_minor": 5
}
